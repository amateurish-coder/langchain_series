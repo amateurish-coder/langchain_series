{
  "cells": [
    {
      "cell_type": "markdown",
      "metadata": {
        "id": "view-in-github",
        "colab_type": "text"
      },
      "source": [
        "<a href=\"https://colab.research.google.com/github/amateurish-coder/langchain_series/blob/main/langchain_handbook.ipynb\" target=\"_parent\"><img src=\"https://colab.research.google.com/assets/colab-badge.svg\" alt=\"Open In Colab\"/></a>"
      ]
    },
    {
      "cell_type": "markdown",
      "id": "a39a30cb-7280-4cb5-9c08-ab4ed1a7b2b4",
      "metadata": {
        "id": "a39a30cb-7280-4cb5-9c08-ab4ed1a7b2b4"
      },
      "source": [
        "# LLM handbook\n",
        "\n",
        "Following guidance from <a href='https://www.pinecone.io/learn/series/langchain/'> Pinecone's Langchain handbook.</a>"
      ]
    },
    {
      "cell_type": "code",
      "source": [
        "# if using Google Colab\n",
        "!pip install langchain\n",
        "!pip install huggingface_hub\n",
        "!pip install python-dotenv"
      ],
      "metadata": {
        "colab": {
          "base_uri": "https://localhost:8080/"
        },
        "id": "1qUakls_hN6R",
        "outputId": "71ead6e8-9b76-4987-b616-d3d59625899b"
      },
      "id": "1qUakls_hN6R",
      "execution_count": 1,
      "outputs": [
        {
          "output_type": "stream",
          "name": "stdout",
          "text": [
            "Collecting langchain\n",
            "  Downloading langchain-0.0.338-py3-none-any.whl (2.0 MB)\n",
            "\u001b[2K     \u001b[90m━━━━━━━━━━━━━━━━━━━━━━━━━━━━━━━━━━━━━━━━\u001b[0m \u001b[32m2.0/2.0 MB\u001b[0m \u001b[31m7.4 MB/s\u001b[0m eta \u001b[36m0:00:00\u001b[0m\n",
            "\u001b[?25hRequirement already satisfied: PyYAML>=5.3 in /usr/local/lib/python3.10/dist-packages (from langchain) (6.0.1)\n",
            "Requirement already satisfied: SQLAlchemy<3,>=1.4 in /usr/local/lib/python3.10/dist-packages (from langchain) (2.0.23)\n",
            "Requirement already satisfied: aiohttp<4.0.0,>=3.8.3 in /usr/local/lib/python3.10/dist-packages (from langchain) (3.8.6)\n",
            "Requirement already satisfied: anyio<4.0 in /usr/local/lib/python3.10/dist-packages (from langchain) (3.7.1)\n",
            "Requirement already satisfied: async-timeout<5.0.0,>=4.0.0 in /usr/local/lib/python3.10/dist-packages (from langchain) (4.0.3)\n",
            "Collecting dataclasses-json<0.7,>=0.5.7 (from langchain)\n",
            "  Downloading dataclasses_json-0.6.2-py3-none-any.whl (28 kB)\n",
            "Collecting jsonpatch<2.0,>=1.33 (from langchain)\n",
            "  Downloading jsonpatch-1.33-py2.py3-none-any.whl (12 kB)\n",
            "Collecting langsmith<0.1.0,>=0.0.63 (from langchain)\n",
            "  Downloading langsmith-0.0.65-py3-none-any.whl (46 kB)\n",
            "\u001b[2K     \u001b[90m━━━━━━━━━━━━━━━━━━━━━━━━━━━━━━━━━━━━━━━━\u001b[0m \u001b[32m46.1/46.1 kB\u001b[0m \u001b[31m5.1 MB/s\u001b[0m eta \u001b[36m0:00:00\u001b[0m\n",
            "\u001b[?25hRequirement already satisfied: numpy<2,>=1 in /usr/local/lib/python3.10/dist-packages (from langchain) (1.23.5)\n",
            "Requirement already satisfied: pydantic<3,>=1 in /usr/local/lib/python3.10/dist-packages (from langchain) (1.10.13)\n",
            "Requirement already satisfied: requests<3,>=2 in /usr/local/lib/python3.10/dist-packages (from langchain) (2.31.0)\n",
            "Requirement already satisfied: tenacity<9.0.0,>=8.1.0 in /usr/local/lib/python3.10/dist-packages (from langchain) (8.2.3)\n",
            "Requirement already satisfied: attrs>=17.3.0 in /usr/local/lib/python3.10/dist-packages (from aiohttp<4.0.0,>=3.8.3->langchain) (23.1.0)\n",
            "Requirement already satisfied: charset-normalizer<4.0,>=2.0 in /usr/local/lib/python3.10/dist-packages (from aiohttp<4.0.0,>=3.8.3->langchain) (3.3.2)\n",
            "Requirement already satisfied: multidict<7.0,>=4.5 in /usr/local/lib/python3.10/dist-packages (from aiohttp<4.0.0,>=3.8.3->langchain) (6.0.4)\n",
            "Requirement already satisfied: yarl<2.0,>=1.0 in /usr/local/lib/python3.10/dist-packages (from aiohttp<4.0.0,>=3.8.3->langchain) (1.9.2)\n",
            "Requirement already satisfied: frozenlist>=1.1.1 in /usr/local/lib/python3.10/dist-packages (from aiohttp<4.0.0,>=3.8.3->langchain) (1.4.0)\n",
            "Requirement already satisfied: aiosignal>=1.1.2 in /usr/local/lib/python3.10/dist-packages (from aiohttp<4.0.0,>=3.8.3->langchain) (1.3.1)\n",
            "Requirement already satisfied: idna>=2.8 in /usr/local/lib/python3.10/dist-packages (from anyio<4.0->langchain) (3.4)\n",
            "Requirement already satisfied: sniffio>=1.1 in /usr/local/lib/python3.10/dist-packages (from anyio<4.0->langchain) (1.3.0)\n",
            "Requirement already satisfied: exceptiongroup in /usr/local/lib/python3.10/dist-packages (from anyio<4.0->langchain) (1.1.3)\n",
            "Collecting marshmallow<4.0.0,>=3.18.0 (from dataclasses-json<0.7,>=0.5.7->langchain)\n",
            "  Downloading marshmallow-3.20.1-py3-none-any.whl (49 kB)\n",
            "\u001b[2K     \u001b[90m━━━━━━━━━━━━━━━━━━━━━━━━━━━━━━━━━━━━━━━━\u001b[0m \u001b[32m49.4/49.4 kB\u001b[0m \u001b[31m5.9 MB/s\u001b[0m eta \u001b[36m0:00:00\u001b[0m\n",
            "\u001b[?25hCollecting typing-inspect<1,>=0.4.0 (from dataclasses-json<0.7,>=0.5.7->langchain)\n",
            "  Downloading typing_inspect-0.9.0-py3-none-any.whl (8.8 kB)\n",
            "Collecting jsonpointer>=1.9 (from jsonpatch<2.0,>=1.33->langchain)\n",
            "  Downloading jsonpointer-2.4-py2.py3-none-any.whl (7.8 kB)\n",
            "Requirement already satisfied: typing-extensions>=4.2.0 in /usr/local/lib/python3.10/dist-packages (from pydantic<3,>=1->langchain) (4.5.0)\n",
            "Requirement already satisfied: urllib3<3,>=1.21.1 in /usr/local/lib/python3.10/dist-packages (from requests<3,>=2->langchain) (2.0.7)\n",
            "Requirement already satisfied: certifi>=2017.4.17 in /usr/local/lib/python3.10/dist-packages (from requests<3,>=2->langchain) (2023.7.22)\n",
            "Requirement already satisfied: greenlet!=0.4.17 in /usr/local/lib/python3.10/dist-packages (from SQLAlchemy<3,>=1.4->langchain) (3.0.1)\n",
            "Requirement already satisfied: packaging>=17.0 in /usr/local/lib/python3.10/dist-packages (from marshmallow<4.0.0,>=3.18.0->dataclasses-json<0.7,>=0.5.7->langchain) (23.2)\n",
            "Collecting mypy-extensions>=0.3.0 (from typing-inspect<1,>=0.4.0->dataclasses-json<0.7,>=0.5.7->langchain)\n",
            "  Downloading mypy_extensions-1.0.0-py3-none-any.whl (4.7 kB)\n",
            "Installing collected packages: mypy-extensions, marshmallow, jsonpointer, typing-inspect, langsmith, jsonpatch, dataclasses-json, langchain\n",
            "Successfully installed dataclasses-json-0.6.2 jsonpatch-1.33 jsonpointer-2.4 langchain-0.0.338 langsmith-0.0.65 marshmallow-3.20.1 mypy-extensions-1.0.0 typing-inspect-0.9.0\n",
            "Requirement already satisfied: huggingface_hub in /usr/local/lib/python3.10/dist-packages (0.19.3)\n",
            "Requirement already satisfied: filelock in /usr/local/lib/python3.10/dist-packages (from huggingface_hub) (3.13.1)\n",
            "Requirement already satisfied: fsspec>=2023.5.0 in /usr/local/lib/python3.10/dist-packages (from huggingface_hub) (2023.6.0)\n",
            "Requirement already satisfied: requests in /usr/local/lib/python3.10/dist-packages (from huggingface_hub) (2.31.0)\n",
            "Requirement already satisfied: tqdm>=4.42.1 in /usr/local/lib/python3.10/dist-packages (from huggingface_hub) (4.66.1)\n",
            "Requirement already satisfied: pyyaml>=5.1 in /usr/local/lib/python3.10/dist-packages (from huggingface_hub) (6.0.1)\n",
            "Requirement already satisfied: typing-extensions>=3.7.4.3 in /usr/local/lib/python3.10/dist-packages (from huggingface_hub) (4.5.0)\n",
            "Requirement already satisfied: packaging>=20.9 in /usr/local/lib/python3.10/dist-packages (from huggingface_hub) (23.2)\n",
            "Requirement already satisfied: charset-normalizer<4,>=2 in /usr/local/lib/python3.10/dist-packages (from requests->huggingface_hub) (3.3.2)\n",
            "Requirement already satisfied: idna<4,>=2.5 in /usr/local/lib/python3.10/dist-packages (from requests->huggingface_hub) (3.4)\n",
            "Requirement already satisfied: urllib3<3,>=1.21.1 in /usr/local/lib/python3.10/dist-packages (from requests->huggingface_hub) (2.0.7)\n",
            "Requirement already satisfied: certifi>=2017.4.17 in /usr/local/lib/python3.10/dist-packages (from requests->huggingface_hub) (2023.7.22)\n",
            "Collecting python-dotenv\n",
            "  Downloading python_dotenv-1.0.0-py3-none-any.whl (19 kB)\n",
            "Installing collected packages: python-dotenv\n",
            "Successfully installed python-dotenv-1.0.0\n"
          ]
        }
      ]
    },
    {
      "cell_type": "code",
      "execution_count": 2,
      "id": "9fcd2583-d0ab-4649-a241-4526f6a3b83d",
      "metadata": {
        "id": "9fcd2583-d0ab-4649-a241-4526f6a3b83d"
      },
      "outputs": [],
      "source": [
        "# import packages\n",
        "import os\n",
        "import langchain\n",
        "import getpass\n",
        "from langchain import HuggingFaceHub, LLMChain\n",
        "from dotenv import load_dotenv"
      ]
    },
    {
      "cell_type": "markdown",
      "source": [
        "#API KEY"
      ],
      "metadata": {
        "id": "AyRxKsE4qPR1"
      },
      "id": "AyRxKsE4qPR1"
    },
    {
      "cell_type": "code",
      "execution_count": 3,
      "id": "cf146257-5014-4041-980c-0ead2c3932c3",
      "metadata": {
        "id": "cf146257-5014-4041-980c-0ead2c3932c3"
      },
      "outputs": [],
      "source": [
        "# LOCAL\n",
        "load_dotenv()\n",
        "os.environ.get('HUGGINGFACEHUB_API_TOKEN');\n",
        "\n",
        "# COLAB\n",
        "from google.colab import userdata\n",
        "os.environ['HUGGINGFACEHUB_API_TOKEN'] = userdata.get('HUGGINGFACEHUB_API_TOKEN');"
      ]
    },
    {
      "cell_type": "markdown",
      "metadata": {
        "id": "yeGkB8OohG93"
      },
      "source": [
        "## Skill 1 - using prompt templates\n",
        "\n",
        "A prompt is the input to the LLM. Learning to engineer the prompt is learning how to program the LLM to do what you want it to do. The most basic prompt class from langchain is the PromptTemplate which is demonstrated below."
      ],
      "id": "yeGkB8OohG93"
    },
    {
      "cell_type": "code",
      "execution_count": 4,
      "id": "06c54d35-e9a2-4043-b3c3-588ac4f4a0d1",
      "metadata": {
        "id": "06c54d35-e9a2-4043-b3c3-588ac4f4a0d1"
      },
      "outputs": [],
      "source": [
        "from langchain import PromptTemplate\n",
        "\n",
        "# create template\n",
        "template = \"\"\"\n",
        "Answer the following question: {question}\n",
        "\n",
        "Answer:\n",
        "\"\"\"\n",
        "\n",
        "# create prompt using template\n",
        "prompt = PromptTemplate(\n",
        "    template=template,\n",
        "    input_variables=['question']\n",
        ")"
      ]
    },
    {
      "cell_type": "markdown",
      "metadata": {
        "id": "A1rhV_L1hG94"
      },
      "source": [
        "The next step is to instantiate the LLM. The LLM is fetched from HuggingFaceHub, where we can specify which model we want to use and set its parameters with <a href=https://huggingface.co/docs/transformers/main_classes/text_generation>this as reference </a>. We then set up the prompt+LLM chain using langchain's LLMChain class."
      ],
      "id": "A1rhV_L1hG94"
    },
    {
      "cell_type": "code",
      "execution_count": 62,
      "id": "03290cad-f6be-4002-b177-00220f22333a",
      "metadata": {
        "colab": {
          "base_uri": "https://localhost:8080/"
        },
        "id": "03290cad-f6be-4002-b177-00220f22333a",
        "outputId": "9bf9e202-9433-4f76-ae3d-69baeb49ffb9"
      },
      "outputs": [
        {
          "output_type": "stream",
          "name": "stderr",
          "text": [
            "/usr/local/lib/python3.10/dist-packages/huggingface_hub/utils/_deprecation.py:127: FutureWarning: '__init__' (from 'huggingface_hub.inference_api') is deprecated and will be removed from version '1.0'. `InferenceApi` client is deprecated in favor of the more feature-complete `InferenceClient`. Check out this guide to learn how to convert your script to use it: https://huggingface.co/docs/huggingface_hub/guides/inference#legacy-inferenceapi-client.\n",
            "  warnings.warn(warning_message, FutureWarning)\n"
          ]
        }
      ],
      "source": [
        "# instantiate llm\n",
        "llm = HuggingFaceHub(\n",
        "    repo_id='tiiuae/falcon-7b-instruct',\n",
        "    model_kwargs={\n",
        "        'temperature':1,\n",
        "        'penalty_alpha':2,\n",
        "        'top_k':50,\n",
        "        'max_length': 1000\n",
        "    }\n",
        ")\n",
        "\n",
        "# instantiate chain\n",
        "llm_chain = LLMChain(\n",
        "    llm=llm,\n",
        "    prompt=prompt,\n",
        "    verbose=True\n",
        ")"
      ]
    },
    {
      "cell_type": "markdown",
      "metadata": {
        "id": "SeVzuXAxhG96"
      },
      "source": [
        "Now all that's left to do is ask a question and run the chain."
      ],
      "id": "SeVzuXAxhG96"
    },
    {
      "cell_type": "code",
      "execution_count": 63,
      "id": "92bcc47b-da8a-4641-ae1d-3beb3f870a4f",
      "metadata": {
        "colab": {
          "base_uri": "https://localhost:8080/"
        },
        "id": "92bcc47b-da8a-4641-ae1d-3beb3f870a4f",
        "outputId": "7856fb26-31b7-42b8-b50f-0a7ad7b6aeaa"
      },
      "outputs": [
        {
          "output_type": "stream",
          "name": "stdout",
          "text": [
            "\n",
            "\n",
            "\u001b[1m> Entering new LLMChain chain...\u001b[0m\n",
            "Prompt after formatting:\n",
            "\u001b[32;1m\u001b[1;3m\n",
            "Answer this question: How many champions league titles has Real Madrid won?\n",
            "\n",
            "Answer:\n",
            "\u001b[0m\n",
            "\n",
            "\u001b[1m> Finished chain.\u001b[0m\n",
            "Real Madrid has won 13 Champions League titles.\n"
          ]
        }
      ],
      "source": [
        "# define question\n",
        "question = \"How many champions league titles has Real Madrid won?\"\n",
        "\n",
        "# run question\n",
        "print(llm_chain.run(question))"
      ]
    },
    {
      "cell_type": "markdown",
      "metadata": {
        "id": "OOXGnVnRhG96"
      },
      "source": [
        "## Skill 2 - using chains\n",
        "\n",
        "Chains are at the core of langchain. They represent a sequence of actions. Above, we used a simple prompt + LLM chain. Let's try some more complex chains."
      ],
      "id": "OOXGnVnRhG96"
    },
    {
      "cell_type": "markdown",
      "metadata": {
        "id": "kc59-q-NhG97"
      },
      "source": [
        "### Math chain"
      ],
      "id": "kc59-q-NhG97"
    },
    {
      "cell_type": "code",
      "execution_count": 64,
      "metadata": {
        "colab": {
          "base_uri": "https://localhost:8080/",
          "height": 209
        },
        "id": "ClxH-ST-hG97",
        "outputId": "e451698e-926d-428e-bc28-5e6f771216bd"
      },
      "outputs": [
        {
          "output_type": "stream",
          "name": "stdout",
          "text": [
            "\n",
            "\n",
            "\u001b[1m> Entering new LLMMathChain chain...\u001b[0m\n",
            "Calculate 5-3?\u001b[32;1m\u001b[1;3m```text\n",
            "5 - 3\n",
            "```\n",
            "...numexpr.evaluate(\"5 - 3\")...\n",
            "\u001b[0m\n",
            "Answer: \u001b[33;1m\u001b[1;3m2\u001b[0m\n",
            "\u001b[1m> Finished chain.\u001b[0m\n"
          ]
        },
        {
          "output_type": "execute_result",
          "data": {
            "text/plain": [
              "'Answer: 2'"
            ],
            "application/vnd.google.colaboratory.intrinsic+json": {
              "type": "string"
            }
          },
          "metadata": {},
          "execution_count": 64
        }
      ],
      "source": [
        "from langchain.chains import LLMMathChain\n",
        "\n",
        "llm_math_chain = LLMMathChain.from_llm(llm, verbose=True)\n",
        "\n",
        "llm_math_chain.run(\"Calculate 5-3?\")"
      ],
      "id": "ClxH-ST-hG97"
    },
    {
      "cell_type": "markdown",
      "metadata": {
        "id": "-WmXZ6nLhG98"
      },
      "source": [
        "We can see what prompt the LLMMathChain class is using here. This is a good example of how to program an LLM for a specific purpose using prompts."
      ],
      "id": "-WmXZ6nLhG98"
    },
    {
      "cell_type": "code",
      "execution_count": 65,
      "metadata": {
        "colab": {
          "base_uri": "https://localhost:8080/"
        },
        "id": "ecbnY7jqhG98",
        "outputId": "a2cd2d7c-40b5-4a68-8802-c128b94f0d48"
      },
      "outputs": [
        {
          "output_type": "stream",
          "name": "stdout",
          "text": [
            "Translate a math problem into a expression that can be executed using Python's numexpr library. Use the output of running this code to answer the question.\n",
            "\n",
            "Question: ${{Question with math problem.}}\n",
            "```text\n",
            "${{single line mathematical expression that solves the problem}}\n",
            "```\n",
            "...numexpr.evaluate(text)...\n",
            "```output\n",
            "${{Output of running the code}}\n",
            "```\n",
            "Answer: ${{Answer}}\n",
            "\n",
            "Begin.\n",
            "\n",
            "Question: What is 37593 * 67?\n",
            "```text\n",
            "37593 * 67\n",
            "```\n",
            "...numexpr.evaluate(\"37593 * 67\")...\n",
            "```output\n",
            "2518731\n",
            "```\n",
            "Answer: 2518731\n",
            "\n",
            "Question: 37593^(1/5)\n",
            "```text\n",
            "37593**(1/5)\n",
            "```\n",
            "...numexpr.evaluate(\"37593**(1/5)\")...\n",
            "```output\n",
            "8.222831614237718\n",
            "```\n",
            "Answer: 8.222831614237718\n",
            "\n",
            "Question: {question}\n",
            "\n"
          ]
        }
      ],
      "source": [
        "print(llm_math_chain.prompt.template)"
      ],
      "id": "ecbnY7jqhG98"
    },
    {
      "cell_type": "markdown",
      "metadata": {
        "id": "rGxlC_srhG99"
      },
      "source": [
        "### Transform chain\n",
        "\n",
        "The transform chain allows transform queries before they are fed into the LLM."
      ],
      "id": "rGxlC_srhG99"
    },
    {
      "cell_type": "code",
      "execution_count": 66,
      "metadata": {
        "id": "7aXq5CGLhG99"
      },
      "outputs": [],
      "source": [
        "import re\n",
        "\n",
        "# define function to transform query\n",
        "def transform_func(inputs: dict) -> dict:\n",
        "\n",
        "    question = inputs['question']\n",
        "\n",
        "    question = re.sub(' +', ' ', question)\n",
        "\n",
        "    return {'output_question': question}"
      ],
      "id": "7aXq5CGLhG99"
    },
    {
      "cell_type": "code",
      "execution_count": 67,
      "metadata": {
        "colab": {
          "base_uri": "https://localhost:8080/",
          "height": 36
        },
        "id": "lEG14RpahG99",
        "outputId": "70e81a21-3c67-4f21-d53d-c1fa40c23585"
      },
      "outputs": [
        {
          "output_type": "execute_result",
          "data": {
            "text/plain": [
              "'Hello my name is Daniel'"
            ],
            "application/vnd.google.colaboratory.intrinsic+json": {
              "type": "string"
            }
          },
          "metadata": {},
          "execution_count": 67
        }
      ],
      "source": [
        "from langchain.chains import TransformChain\n",
        "\n",
        "# define transform chain\n",
        "transform_chain = TransformChain(input_variables=['question'], output_variables=['output_question'], transform=transform_func)\n",
        "\n",
        "# test transform chain\n",
        "transform_chain.run('Hello   my name is     Daniel')"
      ],
      "id": "lEG14RpahG99"
    },
    {
      "cell_type": "code",
      "execution_count": 68,
      "metadata": {
        "id": "JRNuu4mLhG99"
      },
      "outputs": [],
      "source": [
        "from langchain.prompts import PromptTemplate\n",
        "from langchain import LLMChain"
      ],
      "id": "JRNuu4mLhG99"
    },
    {
      "cell_type": "code",
      "execution_count": 69,
      "metadata": {
        "id": "zXolBaHNhG9-"
      },
      "outputs": [],
      "source": [
        "# create new prompt to take input as 'output_question'\n",
        "template = \"\"\"\n",
        "Answer this question: {output_question}\n",
        "\n",
        "Answer:\n",
        "\"\"\"\n",
        "prompt = PromptTemplate(template=template, input_variables=['output_question'])\n",
        "\n",
        "llm_chain.prompt = prompt"
      ],
      "id": "zXolBaHNhG9-"
    },
    {
      "cell_type": "code",
      "execution_count": 70,
      "metadata": {
        "id": "TOzl_x6KhG9-"
      },
      "outputs": [],
      "source": [
        "from langchain.chains import SequentialChain\n",
        "\n",
        "sequential_chain = SequentialChain(chains=[transform_chain, llm_chain], input_variables=['question'])"
      ],
      "id": "TOzl_x6KhG9-"
    },
    {
      "cell_type": "code",
      "execution_count": 71,
      "metadata": {
        "colab": {
          "base_uri": "https://localhost:8080/"
        },
        "id": "dRuMuSNWhG9_",
        "outputId": "ee97ccc4-53df-4bcc-a1ba-e175dcafe67f"
      },
      "outputs": [
        {
          "output_type": "stream",
          "name": "stdout",
          "text": [
            "\n",
            "\n",
            "\u001b[1m> Entering new LLMChain chain...\u001b[0m\n",
            "Prompt after formatting:\n",
            "\u001b[32;1m\u001b[1;3m\n",
            "Answer this question: What will happen to me if I only get 4 hours sleep tonight?\n",
            "\n",
            "Answer:\n",
            "\u001b[0m\n",
            "\n",
            "\u001b[1m> Finished chain.\u001b[0m\n",
            "4 hours of sleep may affect your productivity throughout the day and may make you feel groggy as well. It may also affect your cognitive abilities and may result in mistakes. It is important to establish a healthy sleep pattern to perform at your best.\n"
          ]
        }
      ],
      "source": [
        "print(sequential_chain.run(\"What     will happen     to  me if I only get 4 hours sleep tonight?\"))"
      ],
      "id": "dRuMuSNWhG9_"
    },
    {
      "cell_type": "markdown",
      "source": [
        "# Skill 3 - conversational memory\n",
        "\n",
        "In order to have a conversation, the LLM now needs two inputs - the new query and the chat history.\n",
        "\n",
        "ConversationChain is a chain which manages these two inputs with an appropriate template as shown below."
      ],
      "metadata": {
        "id": "IzVk22o3tAXu"
      },
      "id": "IzVk22o3tAXu"
    },
    {
      "cell_type": "code",
      "execution_count": 72,
      "metadata": {
        "colab": {
          "base_uri": "https://localhost:8080/"
        },
        "id": "Qq3No2kChG9_",
        "outputId": "1d17c806-146e-4e18-a89a-123e0f2b5ceb"
      },
      "outputs": [
        {
          "output_type": "stream",
          "name": "stdout",
          "text": [
            "The following is a friendly conversation between a human and an AI. The AI is talkative and provides lots of specific details from its context. If the AI does not know the answer to a question, it truthfully says it does not know.\n",
            "\n",
            "Current conversation:\n",
            "{history}\n",
            "Human: {input}\n",
            "AI:\n"
          ]
        }
      ],
      "source": [
        "from langchain.chains import ConversationChain\n",
        "\n",
        "conversation_chain = ConversationChain(llm=llm, verbose=True)\n",
        "\n",
        "print(conversation_chain.prompt.template)"
      ],
      "id": "Qq3No2kChG9_"
    },
    {
      "cell_type": "markdown",
      "source": [
        "To manage conversation history, we can use ConversationalBufferMemory which inputs the raw chat history."
      ],
      "metadata": {
        "id": "e3q6q0qkus6Z"
      },
      "id": "e3q6q0qkus6Z"
    },
    {
      "cell_type": "code",
      "source": [
        "from langchain.chains.conversation.memory import ConversationBufferMemory\n",
        "\n",
        "# set memory type\n",
        "conversation_chain.memory = ConversationBufferMemory()"
      ],
      "metadata": {
        "id": "noJ8pG9muDZK"
      },
      "id": "noJ8pG9muDZK",
      "execution_count": 78,
      "outputs": []
    },
    {
      "cell_type": "code",
      "source": [
        "conversation_chain(\"What is the weather like today?\")"
      ],
      "metadata": {
        "colab": {
          "base_uri": "https://localhost:8080/"
        },
        "id": "WCqQ53PAOZmv",
        "outputId": "49e2cd6a-0590-4f6e-dc6f-bfc2b1e7a98f"
      },
      "id": "WCqQ53PAOZmv",
      "execution_count": 79,
      "outputs": [
        {
          "output_type": "stream",
          "name": "stdout",
          "text": [
            "\n",
            "\n",
            "\u001b[1m> Entering new ConversationChain chain...\u001b[0m\n",
            "Prompt after formatting:\n",
            "\u001b[32;1m\u001b[1;3mThe following is a friendly conversation between a human and an AI. The AI is talkative and provides lots of specific details from its context. If the AI does not know the answer to a question, it truthfully says it does not know.\n",
            "\n",
            "Current conversation:\n",
            "\n",
            "Human: What is the weather like today?\n",
            "AI:\u001b[0m\n",
            "\n",
            "\u001b[1m> Finished chain.\u001b[0m\n"
          ]
        },
        {
          "output_type": "execute_result",
          "data": {
            "text/plain": [
              "{'input': 'What is the weather like today?',\n",
              " 'history': '',\n",
              " 'response': \" It's a beautiful day today with clear skies and comfortable temperatures. There's a light breeze, which makes it feel quite refreshing. Overall, it's a great day for outdoor activities.\\nUser \"}"
            ]
          },
          "metadata": {},
          "execution_count": 79
        }
      ]
    },
    {
      "cell_type": "code",
      "source": [
        "conversation_chain(\"What was my previous question?\")"
      ],
      "metadata": {
        "colab": {
          "base_uri": "https://localhost:8080/"
        },
        "id": "DyGNbP4xvQRw",
        "outputId": "f641dc7c-5225-4eb5-c83a-9c6cb4f0d288"
      },
      "id": "DyGNbP4xvQRw",
      "execution_count": 80,
      "outputs": [
        {
          "output_type": "stream",
          "name": "stdout",
          "text": [
            "\n",
            "\n",
            "\u001b[1m> Entering new ConversationChain chain...\u001b[0m\n",
            "Prompt after formatting:\n",
            "\u001b[32;1m\u001b[1;3mThe following is a friendly conversation between a human and an AI. The AI is talkative and provides lots of specific details from its context. If the AI does not know the answer to a question, it truthfully says it does not know.\n",
            "\n",
            "Current conversation:\n",
            "Human: What is the weather like today?\n",
            "AI:  It's a beautiful day today with clear skies and comfortable temperatures. There's a light breeze, which makes it feel quite refreshing. Overall, it's a great day for outdoor activities.\n",
            "User \n",
            "Human: What was my previous question?\n",
            "AI:\u001b[0m\n",
            "\n",
            "\u001b[1m> Finished chain.\u001b[0m\n"
          ]
        },
        {
          "output_type": "execute_result",
          "data": {
            "text/plain": [
              "{'input': 'What was my previous question?',\n",
              " 'history': \"Human: What is the weather like today?\\nAI:  It's a beautiful day today with clear skies and comfortable temperatures. There's a light breeze, which makes it feel quite refreshing. Overall, it's a great day for outdoor activities.\\nUser \",\n",
              " 'response': '  You asked about the weather today.'}"
            ]
          },
          "metadata": {},
          "execution_count": 80
        }
      ]
    },
    {
      "cell_type": "code",
      "source": [],
      "metadata": {
        "id": "y0DzHCo4sDha"
      },
      "id": "y0DzHCo4sDha",
      "execution_count": null,
      "outputs": []
    }
  ],
  "metadata": {
    "kernelspec": {
      "display_name": "Python 3 (ipykernel)",
      "language": "python",
      "name": "python3"
    },
    "language_info": {
      "codemirror_mode": {
        "name": "ipython",
        "version": 3
      },
      "file_extension": ".py",
      "mimetype": "text/x-python",
      "name": "python",
      "nbconvert_exporter": "python",
      "pygments_lexer": "ipython3",
      "version": "3.11.6"
    },
    "colab": {
      "provenance": [],
      "toc_visible": true,
      "include_colab_link": true
    }
  },
  "nbformat": 4,
  "nbformat_minor": 5
}